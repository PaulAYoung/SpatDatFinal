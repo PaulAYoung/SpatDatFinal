{
 "metadata": {
  "name": "",
  "signature": "sha256:9b40daa6940fa07025d07f6c8c90bde285c356286d7378875ed90a410d8e8ea5"
 },
 "nbformat": 3,
 "nbformat_minor": 0,
 "worksheets": [
  {
   "cells": [
    {
     "cell_type": "code",
     "collapsed": false,
     "input": [
      "import os\n",
      "from os import path\n",
      "import re\n",
      "\n",
      "import pandas as pd"
     ],
     "language": "python",
     "metadata": {},
     "outputs": [],
     "prompt_number": 1
    },
    {
     "cell_type": "code",
     "collapsed": false,
     "input": [
      "raw = path.join(path.curdir, 'raw_data')\n",
      "star_dir = path.join(raw, 'star_scores')\n",
      "data = path.join(path.curdir, 'data')\n",
      "matlab = path.join(path.curdir, 'matlab')"
     ],
     "language": "python",
     "metadata": {},
     "outputs": [],
     "prompt_number": 16
    },
    {
     "cell_type": "code",
     "collapsed": false,
     "input": [
      "forclosures = pd.read_csv(path.join(raw, 'TrusteeDeeds_010107to0103111geo.csv'))"
     ],
     "language": "python",
     "metadata": {},
     "outputs": [],
     "prompt_number": 3
    },
    {
     "cell_type": "code",
     "collapsed": false,
     "input": [
      "forclosures.head()"
     ],
     "language": "python",
     "metadata": {},
     "outputs": [
      {
       "html": [
        "<div style=\"max-height:1000px;max-width:1500px;overflow:auto;\">\n",
        "<table border=\"1\" class=\"dataframe\">\n",
        "  <thead>\n",
        "    <tr style=\"text-align: right;\">\n",
        "      <th></th>\n",
        "      <th>ID</th>\n",
        "      <th>InstNo</th>\n",
        "      <th>Date</th>\n",
        "      <th>Name</th>\n",
        "      <th>Index_Stat</th>\n",
        "      <th>Associated</th>\n",
        "      <th>Document</th>\n",
        "      <th>APN</th>\n",
        "      <th>APNsort</th>\n",
        "      <th>City</th>\n",
        "      <th>...</th>\n",
        "      <th>BOOK</th>\n",
        "      <th>PAGE</th>\n",
        "      <th>PARCEL</th>\n",
        "      <th>SUB_PARCEL</th>\n",
        "      <th>CLCA_CATEG</th>\n",
        "      <th>FID_PARCEL</th>\n",
        "      <th>Coor_X_NAD83</th>\n",
        "      <th>Coor_Y_NAD83</th>\n",
        "      <th>Long_WGS</th>\n",
        "      <th>lat_WGS</th>\n",
        "    </tr>\n",
        "  </thead>\n",
        "  <tbody>\n",
        "    <tr>\n",
        "      <th>0</th>\n",
        "      <td> 1</td>\n",
        "      <td> 2007024610</td>\n",
        "      <td> 1/12/2007 0:00</td>\n",
        "      <td>        CAL WESTERN RECONVEYANCE CORPORATION (+)</td>\n",
        "      <td> Perm</td>\n",
        "      <td>                      GMAC MORTGAGE LLC</td>\n",
        "      <td> TRUSTEE'S DEED</td>\n",
        "      <td> 071 0215 020 00</td>\n",
        "      <td> 071 021502000</td>\n",
        "      <td> ALAMEDA</td>\n",
        "      <td>...</td>\n",
        "      <td> 71</td>\n",
        "      <td>  215</td>\n",
        "      <td> 20</td>\n",
        "      <td>  </td>\n",
        "      <td>  </td>\n",
        "      <td> 128337</td>\n",
        "      <td> 6056459.004</td>\n",
        "      <td> 2105145.548</td>\n",
        "      <td>-122.247835</td>\n",
        "      <td> 37.763390</td>\n",
        "    </tr>\n",
        "    <tr>\n",
        "      <th>1</th>\n",
        "      <td> 2</td>\n",
        "      <td> 2007026170</td>\n",
        "      <td> 1/16/2007 0:00</td>\n",
        "      <td> FIRST AMERICAN LOANSTAR TRUSTEE SERVICES TR (+)</td>\n",
        "      <td> Perm</td>\n",
        "      <td>                                US BANK</td>\n",
        "      <td> TRUSTEE'S DEED</td>\n",
        "      <td> 074 1036 001 03</td>\n",
        "      <td> 074 103600103</td>\n",
        "      <td> ALAMEDA</td>\n",
        "      <td>...</td>\n",
        "      <td> 74</td>\n",
        "      <td> 1036</td>\n",
        "      <td>  1</td>\n",
        "      <td> 3</td>\n",
        "      <td>  </td>\n",
        "      <td> 152040</td>\n",
        "      <td> 6059613.767</td>\n",
        "      <td> 2094954.871</td>\n",
        "      <td>-122.236269</td>\n",
        "      <td> 37.735569</td>\n",
        "    </tr>\n",
        "    <tr>\n",
        "      <th>2</th>\n",
        "      <td> 3</td>\n",
        "      <td> 2007029920</td>\n",
        "      <td> 1/18/2007 0:00</td>\n",
        "      <td> FIRST AMERICAN LOANSTAR TRUSTEE SERVICES TR (+)</td>\n",
        "      <td> Perm</td>\n",
        "      <td>   HOMECOMINGS FINANCIAL NETWORK INC TR</td>\n",
        "      <td> TRUSTEE'S DEED</td>\n",
        "      <td>    074 1075 094</td>\n",
        "      <td> 074 107509400</td>\n",
        "      <td> ALAMEDA</td>\n",
        "      <td>...</td>\n",
        "      <td> 74</td>\n",
        "      <td> 1075</td>\n",
        "      <td> 94</td>\n",
        "      <td>  </td>\n",
        "      <td>  </td>\n",
        "      <td> 153870</td>\n",
        "      <td> 6059848.522</td>\n",
        "      <td> 2094035.703</td>\n",
        "      <td>-122.235398</td>\n",
        "      <td> 37.733057</td>\n",
        "    </tr>\n",
        "    <tr>\n",
        "      <th>3</th>\n",
        "      <td> 4</td>\n",
        "      <td> 2007045780</td>\n",
        "      <td> 1/30/2007 0:00</td>\n",
        "      <td>         QUALITY LOAN SERVICE CORPORATION TR (+)</td>\n",
        "      <td> Perm</td>\n",
        "      <td> DEUTSCHE BANK NATIONAL TRUST CO TR (+)</td>\n",
        "      <td> TRUSTEE'S DEED</td>\n",
        "      <td>    074 0431 012</td>\n",
        "      <td> 074 043101200</td>\n",
        "      <td> ALAMEDA</td>\n",
        "      <td>...</td>\n",
        "      <td> 74</td>\n",
        "      <td>  431</td>\n",
        "      <td> 12</td>\n",
        "      <td>  </td>\n",
        "      <td>  </td>\n",
        "      <td> 349694</td>\n",
        "      <td> 6047702.529</td>\n",
        "      <td> 2110217.955</td>\n",
        "      <td>-122.278455</td>\n",
        "      <td> 37.776865</td>\n",
        "    </tr>\n",
        "    <tr>\n",
        "      <th>4</th>\n",
        "      <td> 5</td>\n",
        "      <td> 2007047810</td>\n",
        "      <td> 1/31/2007 0:00</td>\n",
        "      <td> FIRST AMERICAN LOANSTAR TRUSTEE SERVICES TR (+)</td>\n",
        "      <td> Perm</td>\n",
        "      <td> DEUTSCHE BANK NATIONAL TRUST CO TR (+)</td>\n",
        "      <td> TRUSTEE'S DEED</td>\n",
        "      <td>    070 0147 035</td>\n",
        "      <td> 070 014703500</td>\n",
        "      <td> ALAMEDA</td>\n",
        "      <td>...</td>\n",
        "      <td> 70</td>\n",
        "      <td>  147</td>\n",
        "      <td> 35</td>\n",
        "      <td>  </td>\n",
        "      <td>  </td>\n",
        "      <td> 102272</td>\n",
        "      <td> 6057631.019</td>\n",
        "      <td> 2102687.248</td>\n",
        "      <td>-122.243623</td>\n",
        "      <td> 37.756699</td>\n",
        "    </tr>\n",
        "  </tbody>\n",
        "</table>\n",
        "<p>5 rows \u00d7 22 columns</p>\n",
        "</div>"
       ],
       "metadata": {},
       "output_type": "pyout",
       "prompt_number": 4,
       "text": [
        "   ID      InstNo            Date  \\\n",
        "0   1  2007024610  1/12/2007 0:00   \n",
        "1   2  2007026170  1/16/2007 0:00   \n",
        "2   3  2007029920  1/18/2007 0:00   \n",
        "3   4  2007045780  1/30/2007 0:00   \n",
        "4   5  2007047810  1/31/2007 0:00   \n",
        "\n",
        "                                              Name Index_Stat  \\\n",
        "0         CAL WESTERN RECONVEYANCE CORPORATION (+)       Perm   \n",
        "1  FIRST AMERICAN LOANSTAR TRUSTEE SERVICES TR (+)       Perm   \n",
        "2  FIRST AMERICAN LOANSTAR TRUSTEE SERVICES TR (+)       Perm   \n",
        "3          QUALITY LOAN SERVICE CORPORATION TR (+)       Perm   \n",
        "4  FIRST AMERICAN LOANSTAR TRUSTEE SERVICES TR (+)       Perm   \n",
        "\n",
        "                               Associated        Document              APN  \\\n",
        "0                       GMAC MORTGAGE LLC  TRUSTEE'S DEED  071 0215 020 00   \n",
        "1                                 US BANK  TRUSTEE'S DEED  074 1036 001 03   \n",
        "2    HOMECOMINGS FINANCIAL NETWORK INC TR  TRUSTEE'S DEED     074 1075 094   \n",
        "3  DEUTSCHE BANK NATIONAL TRUST CO TR (+)  TRUSTEE'S DEED     074 0431 012   \n",
        "4  DEUTSCHE BANK NATIONAL TRUST CO TR (+)  TRUSTEE'S DEED     070 0147 035   \n",
        "\n",
        "         APNsort     City    ...     BOOK  PAGE  PARCEL  SUB_PARCEL  \\\n",
        "0  071 021502000  ALAMEDA    ...       71   215      20               \n",
        "1  074 103600103  ALAMEDA    ...       74  1036       1           3   \n",
        "2  074 107509400  ALAMEDA    ...       74  1075      94               \n",
        "3  074 043101200  ALAMEDA    ...       74   431      12               \n",
        "4  070 014703500  ALAMEDA    ...       70   147      35               \n",
        "\n",
        "   CLCA_CATEG FID_PARCEL Coor_X_NAD83  Coor_Y_NAD83    Long_WGS    lat_WGS  \n",
        "0                 128337  6056459.004   2105145.548 -122.247835  37.763390  \n",
        "1                 152040  6059613.767   2094954.871 -122.236269  37.735569  \n",
        "2                 153870  6059848.522   2094035.703 -122.235398  37.733057  \n",
        "3                 349694  6047702.529   2110217.955 -122.278455  37.776865  \n",
        "4                 102272  6057631.019   2102687.248 -122.243623  37.756699  \n",
        "\n",
        "[5 rows x 22 columns]"
       ]
      }
     ],
     "prompt_number": 4
    },
    {
     "cell_type": "code",
     "collapsed": false,
     "input": [
      "forclosures['Year'] = forclosures.Date.apply(lambda r: int(re.findall(\"\\d\\d\\d\\d\", r)[0]))"
     ],
     "language": "python",
     "metadata": {},
     "outputs": [],
     "prompt_number": 5
    },
    {
     "cell_type": "code",
     "collapsed": false,
     "input": [
      "forclosures.rename(columns={\"lat_WGS\": \"Latitude\", \"Long_WGS\": \"Longitude\"}, inplace=True)"
     ],
     "language": "python",
     "metadata": {},
     "outputs": [],
     "prompt_number": 8
    },
    {
     "cell_type": "code",
     "collapsed": false,
     "input": [
      "forclosures.columns"
     ],
     "language": "python",
     "metadata": {},
     "outputs": [
      {
       "metadata": {},
       "output_type": "pyout",
       "prompt_number": 9,
       "text": [
        "Index([u'ID', u'InstNo', u'Date', u'Name', u'Index_Stat', u'Associated', u'Document', u'APN', u'APNsort', u'City', u'APN_join', u'APN_1', u'BOOK', u'PAGE', u'PARCEL', u'SUB_PARCEL', u'CLCA_CATEG', u'FID_PARCEL', u'Coor_X_NAD83', u'Coor_Y_NAD83', u'Longitude', u'Latitude', u'Year'], dtype='object')"
       ]
      }
     ],
     "prompt_number": 9
    },
    {
     "cell_type": "code",
     "collapsed": false,
     "input": [
      "oak_forclosures = forclosures[\n",
      "    (forclosures.City=='OAKLAND') & forclosures.Longitude.between(-123, -122) & forclosures.Latitude.between(37.6, 38)\n",
      "    ][['Year', 'Longitude', 'Latitude']]"
     ],
     "language": "python",
     "metadata": {},
     "outputs": [],
     "prompt_number": 22
    },
    {
     "cell_type": "code",
     "collapsed": false,
     "input": [
      "oak_forclosures.count()"
     ],
     "language": "python",
     "metadata": {},
     "outputs": [
      {
       "metadata": {},
       "output_type": "pyout",
       "prompt_number": 26,
       "text": [
        "Year         10490\n",
        "Longitude    10490\n",
        "Latitude     10490\n",
        "dtype: int64"
       ]
      }
     ],
     "prompt_number": 26
    },
    {
     "cell_type": "code",
     "collapsed": false,
     "input": [
      "oak_forclosures.to_csv(path.join(matlab, 'forclosures.csv'))"
     ],
     "language": "python",
     "metadata": {},
     "outputs": [],
     "prompt_number": 27
    }
   ],
   "metadata": {}
  }
 ]
}