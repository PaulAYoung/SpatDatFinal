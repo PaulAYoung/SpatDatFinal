{
 "metadata": {
  "name": "",
  "signature": "sha256:41900393a33deb29260edcf20a0fd15f4467e51238e42aee3601958f3188605e"
 },
 "nbformat": 3,
 "nbformat_minor": 0,
 "worksheets": [
  {
   "cells": [
    {
     "cell_type": "code",
     "collapsed": false,
     "input": [
      "import os\n",
      "from os import path\n",
      "import re\n",
      "\n",
      "import numpy as np\n",
      "import pandas as pd"
     ],
     "language": "python",
     "metadata": {},
     "outputs": [],
     "prompt_number": 1
    },
    {
     "cell_type": "code",
     "collapsed": false,
     "input": [
      "import matplotlib.pyplot as plt"
     ],
     "language": "python",
     "metadata": {},
     "outputs": [],
     "prompt_number": 2
    },
    {
     "cell_type": "code",
     "collapsed": false,
     "input": [
      "%matplotlib inline"
     ],
     "language": "python",
     "metadata": {},
     "outputs": [],
     "prompt_number": 3
    },
    {
     "cell_type": "code",
     "collapsed": false,
     "input": [
      "raw = path.join(path.curdir, 'raw_data')\n",
      "star_dir = path.join(raw, 'star_scores')\n",
      "data = path.join(path.curdir, 'data')\n",
      "matlab = path.join(path.curdir, 'matlab')"
     ],
     "language": "python",
     "metadata": {},
     "outputs": [],
     "prompt_number": 4
    },
    {
     "cell_type": "code",
     "collapsed": false,
     "input": [
      "df = pd.read_csv(path.join(data, 'star_scores.csv'))"
     ],
     "language": "python",
     "metadata": {},
     "outputs": [],
     "prompt_number": 5
    },
    {
     "cell_type": "code",
     "collapsed": false,
     "input": [
      "df.count()"
     ],
     "language": "python",
     "metadata": {},
     "outputs": [
      {
       "metadata": {},
       "output_type": "pyout",
       "prompt_number": 6,
       "text": [
        "Unnamed: 0                    5628\n",
        "countycode                    5628\n",
        "districtcode                  5628\n",
        "schoolcode                    5628\n",
        "year                          5628\n",
        "grade                         5628\n",
        "studentstested                5628\n",
        "testid                        5628\n",
        "meanscaledscore               4421\n",
        "capaassessmentlevel           5628\n",
        "subgroup                      5628\n",
        "totalstarenrollment           5628\n",
        "totaltestedatentitylevel      5628\n",
        "totaltestedatsubgrouplevel    5628\n",
        "CDSCode                       5628\n",
        "dtype: int64"
       ]
      }
     ],
     "prompt_number": 6
    },
    {
     "cell_type": "code",
     "collapsed": false,
     "input": [
      "# construct dataframe for elementary grades for all groups using only basic language and math tests (7 and 8)\n",
      "elementary = df[df.grade.between(2,5) & (df.subgroup == 1) & df.testid.isin([7, 8])]"
     ],
     "language": "python",
     "metadata": {},
     "outputs": [],
     "prompt_number": 7
    },
    {
     "cell_type": "code",
     "collapsed": false,
     "input": [
      "elementary.count()"
     ],
     "language": "python",
     "metadata": {},
     "outputs": [
      {
       "metadata": {},
       "output_type": "pyout",
       "prompt_number": 8,
       "text": [
        "Unnamed: 0                    830\n",
        "countycode                    830\n",
        "districtcode                  830\n",
        "schoolcode                    830\n",
        "year                          830\n",
        "grade                         830\n",
        "studentstested                830\n",
        "testid                        830\n",
        "meanscaledscore               766\n",
        "capaassessmentlevel           830\n",
        "subgroup                      830\n",
        "totalstarenrollment           830\n",
        "totaltestedatentitylevel      830\n",
        "totaltestedatsubgrouplevel    830\n",
        "CDSCode                       830\n",
        "dtype: int64"
       ]
      }
     ],
     "prompt_number": 8
    },
    {
     "cell_type": "code",
     "collapsed": false,
     "input": [
      "years = elementary.pivot_table(values=\"meanscaledscore\", columns=[\"year\"], index=[\"testid\"], dropna=True, aggfunc=np.mean)"
     ],
     "language": "python",
     "metadata": {},
     "outputs": [],
     "prompt_number": 9
    },
    {
     "cell_type": "code",
     "collapsed": false,
     "input": [
      "years"
     ],
     "language": "python",
     "metadata": {},
     "outputs": [
      {
       "html": [
        "<div style=\"max-height:1000px;max-width:1500px;overflow:auto;\">\n",
        "<table border=\"1\" class=\"dataframe\">\n",
        "  <thead>\n",
        "    <tr style=\"text-align: right;\">\n",
        "      <th>year</th>\n",
        "      <th>2003</th>\n",
        "      <th>2004</th>\n",
        "      <th>2005</th>\n",
        "      <th>2006</th>\n",
        "      <th>2007</th>\n",
        "      <th>2008</th>\n",
        "      <th>2009</th>\n",
        "      <th>2010</th>\n",
        "      <th>2011</th>\n",
        "      <th>2012</th>\n",
        "    </tr>\n",
        "    <tr>\n",
        "      <th>testid</th>\n",
        "      <th></th>\n",
        "      <th></th>\n",
        "      <th></th>\n",
        "      <th></th>\n",
        "      <th></th>\n",
        "      <th></th>\n",
        "      <th></th>\n",
        "      <th></th>\n",
        "      <th></th>\n",
        "      <th></th>\n",
        "    </tr>\n",
        "  </thead>\n",
        "  <tbody>\n",
        "    <tr>\n",
        "      <th>7</th>\n",
        "      <td> 309.452632</td>\n",
        "      <td> 317.417391</td>\n",
        "      <td> 314.570833</td>\n",
        "      <td> 320.563158</td>\n",
        "      <td> 330.229730</td>\n",
        "      <td> 333.193182</td>\n",
        "      <td> 342.680851</td>\n",
        "      <td> 348.540816</td>\n",
        "      <td> 351.509804</td>\n",
        "      <td> 348.450980</td>\n",
        "    </tr>\n",
        "    <tr>\n",
        "      <th>8</th>\n",
        "      <td> 318.784211</td>\n",
        "      <td> 327.365217</td>\n",
        "      <td> 324.462500</td>\n",
        "      <td> 333.010526</td>\n",
        "      <td> 352.375676</td>\n",
        "      <td> 360.143182</td>\n",
        "      <td> 364.506383</td>\n",
        "      <td> 380.879592</td>\n",
        "      <td> 381.992157</td>\n",
        "      <td> 376.821569</td>\n",
        "    </tr>\n",
        "  </tbody>\n",
        "</table>\n",
        "</div>"
       ],
       "metadata": {},
       "output_type": "pyout",
       "prompt_number": 10,
       "text": [
        "year          2003        2004        2005        2006        2007  \\\n",
        "testid                                                               \n",
        "7       309.452632  317.417391  314.570833  320.563158  330.229730   \n",
        "8       318.784211  327.365217  324.462500  333.010526  352.375676   \n",
        "\n",
        "year          2008        2009        2010        2011        2012  \n",
        "testid                                                              \n",
        "7       333.193182  342.680851  348.540816  351.509804  348.450980  \n",
        "8       360.143182  364.506383  380.879592  381.992157  376.821569  "
       ]
      }
     ],
     "prompt_number": 10
    },
    {
     "cell_type": "code",
     "collapsed": false,
     "input": [
      "years.T.plot()"
     ],
     "language": "python",
     "metadata": {},
     "outputs": [
      {
       "metadata": {},
       "output_type": "pyout",
       "prompt_number": 11,
       "text": [
        "<matplotlib.axes._subplots.AxesSubplot at 0x7ff59c0bb990>"
       ]
      },
      {
       "metadata": {},
       "output_type": "display_data",
       "png": "[encoded data removed]",
       "text": [
        "<matplotlib.figure.Figure at 0x7ff59c0bb650>"
       ]
      }
     ],
     "prompt_number": 11
    },
    {
     "cell_type": "code",
     "collapsed": false,
     "input": [
      "schools = pd.read_csv(path.join(data, 'oak_schools.csv'))"
     ],
     "language": "python",
     "metadata": {},
     "outputs": [],
     "prompt_number": 12
    },
    {
     "cell_type": "code",
     "collapsed": false,
     "input": [
      "elementary = elementary.merge(schools, on='CDSCode')"
     ],
     "language": "python",
     "metadata": {},
     "outputs": [],
     "prompt_number": 14
    },
    {
     "cell_type": "code",
     "collapsed": false,
     "input": [
      "elementary.columns"
     ],
     "language": "python",
     "metadata": {},
     "outputs": [
      {
       "metadata": {},
       "output_type": "pyout",
       "prompt_number": 16,
       "text": [
        "Index([u'Unnamed: 0_x', u'countycode', u'districtcode', u'schoolcode', u'year', u'grade', u'studentstested', u'testid', u'meanscaledscore', u'capaassessmentlevel', u'subgroup', u'totalstarenrollment', u'totaltestedatentitylevel', u'totaltestedatsubgrouplevel', u'CDSCode', u'Unnamed: 0_y', u'NCESDist', u'NCESSchool', u'StatusType', u'County', u'District', u'School', u'Street', u'StreetAbr', u'City', u'Zip', u'State', u'MailStreet', u'MailStrAbr', u'MailCity', u'MailZip', u'MailState', u'Phone', u'Ext', u'Website', u'OpenDate', u'ClosedDate', u'Charter', u'CharterNum', u'FundingType', u'DOC', u'DOCType', u'SOC', u'SOCType', u'EdOpsCode', u'EdOpsName', u'EILCode', u'EILName', u'GSoffered', u'GSserved', u'Latitude', u'Longitude', u'AdmFName1', u'AdmLName1', u'AdmEmail1', u'AdmFName2', u'AdmLName2', u'AdmEmail2', u'AdmFName3', u'AdmLName3', u'AdmEmail3', u'LastUpdate'], dtype='object')"
       ]
      }
     ],
     "prompt_number": 16
    },
    {
     "cell_type": "code",
     "collapsed": false,
     "input": [
      "cols = [\n",
      "    \"CDSCode\",\n",
      "    \"School\",\n",
      "    \"year\",\n",
      "    \"grade\",\n",
      "    \"testid\",\n",
      "    \"meanscaledscore\",\n",
      "    \"Latitude\",\n",
      "    \"Longitude\",\n",
      "    \"OpenDate\",\n",
      "    \"ClosedDate\",\n",
      "    \"totalstarenrollment\",\n",
      "    \"totaltestedatentitylevel\"\n",
      "]\n",
      "out = elementary[cols]"
     ],
     "language": "python",
     "metadata": {},
     "outputs": [],
     "prompt_number": 21
    },
    {
     "cell_type": "code",
     "collapsed": false,
     "input": [
      "out.to_csv(path.join(data, \"oak_star.csv\"), index=False)"
     ],
     "language": "python",
     "metadata": {},
     "outputs": [],
     "prompt_number": 22
    }
   ],
   "metadata": {}
  }
 ]
}