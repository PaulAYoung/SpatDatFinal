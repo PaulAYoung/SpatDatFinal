{
 "metadata": {
  "name": "",
  "signature": "sha256:6a03cf378cd9a74a036ed2c10d5379486adcf97f84dafb9256b5e5ba9768bee2"
 },
 "nbformat": 3,
 "nbformat_minor": 0,
 "worksheets": [
  {
   "cells": [
    {
     "cell_type": "code",
     "collapsed": false,
     "input": [
      "import os\n",
      "from os import path\n",
      "import re\n",
      "\n",
      "import pandas as pd"
     ],
     "language": "python",
     "metadata": {},
     "outputs": [],
     "prompt_number": 1
    },
    {
     "cell_type": "code",
     "collapsed": false,
     "input": [
      "import numpy as np"
     ],
     "language": "python",
     "metadata": {},
     "outputs": [],
     "prompt_number": 2
    },
    {
     "cell_type": "code",
     "collapsed": false,
     "input": [
      "raw = path.join(path.curdir, 'raw_data')\n",
      "star_dir = path.join(raw, 'star_scores')\n",
      "data = path.join(path.curdir, 'data')"
     ],
     "language": "python",
     "metadata": {},
     "outputs": [],
     "prompt_number": 3
    },
    {
     "cell_type": "code",
     "collapsed": false,
     "input": [
      "schools = pd.read_csv(path.join(raw, 'pubschls.txt'), '\\t', dtype={'CDSCode': str})\n",
      "oak_scls = schools[(schools.District=='Oakland Unified') & (schools.Charter == 'Y')]\n",
      "oak_scls.to_csv(path.join(raw, 'oak_schools.csv'))\n",
      "del schools"
     ],
     "language": "python",
     "metadata": {},
     "outputs": [],
     "prompt_number": 5
    },
    {
     "cell_type": "code",
     "collapsed": true,
     "input": [
      "star_files = os.listdir(star_dir)"
     ],
     "language": "python",
     "metadata": {},
     "outputs": [],
     "prompt_number": 6
    },
    {
     "cell_type": "code",
     "collapsed": false,
     "input": [
      "counties = set(list(oak_scls.CDSCode.apply(lambda r: (str(r)[0:2]))))\n",
      "districts = set(list(oak_scls.CDSCode.apply(lambda r: (str(r)[2:7]))))\n",
      "schools = set(list(oak_scls.CDSCode.apply(lambda r: (str(r)[7:]))))"
     ],
     "language": "python",
     "metadata": {},
     "outputs": [],
     "prompt_number": 7
    },
    {
     "cell_type": "code",
     "collapsed": false,
     "input": [
      "def get_oak_scores(path):\n",
      "    df = pd.read_csv(fpath, dtype={\n",
      "        'District Code': str,\n",
      "        'DistrictCode': str,\n",
      "        'School Code': str,\n",
      "        'SchoolCode': str,\n",
      "        'County Code': str,\n",
      "        'CountyCode': str\n",
      "    })\n",
      "    renames = {c:c.replace(\" \", \"\").lower() for c in df.columns}\n",
      "    df.rename(columns=renames, inplace=True)\n",
      "    normalize = {\n",
      "        'testyear': 'year',\n",
      "        'gradeid': 'grade',\n",
      "        'percentscoringabove25thnpr': 'pac25',\n",
      "        'percentscoringabove75thnpr': 'pac75',\n",
      "        'percentscoringatorabove50thnpr': 'pac50',\n",
      "        'percentageatoraboveproficient': 'percentatoraboveproficient',\n",
      "        'percentagebelowbasic': 'percentbelowbasic',\n",
      "        'percentagefarbelowbasic': 'percentfarbelowbasic',\n",
      "        'percentageproficient': 'percentproficient',\n",
      "        'percentageadvanced': 'percentadvanced',\n",
      "        'numbertested':'studentstested',\n",
      "        'meanscalescore': 'meanscaledscore',\n",
      "        'percentagebasic': 'percentbasic',\n",
      "        'subgroupid': 'subgroup'\n",
      "        \n",
      "    }\n",
      "    df.rename(columns=normalize, inplace=True)\n",
      "    df = df[df.countycode.isin(counties) & df.districtcode.isin(districts) & df.schoolcode.isin(schools)]\n",
      "    return df[[\n",
      "        \"countycode\",\n",
      "        \"districtcode\",\n",
      "        \"schoolcode\",\n",
      "        \"year\",\n",
      "        \"grade\",\n",
      "        \"studentstested\",\n",
      "        \"testid\",\n",
      "        \"meanscaledscore\",\n",
      "        \"capaassessmentlevel\",\n",
      "        \"subgroup\",\n",
      "        \"totalstarenrollment\",\n",
      "        \"totaltestedatentitylevel\",\n",
      "        \"totaltestedatsubgrouplevel\"\n",
      "       ]]"
     ],
     "language": "python",
     "metadata": {},
     "outputs": [],
     "prompt_number": 8
    },
    {
     "cell_type": "code",
     "collapsed": false,
     "input": [
      "star_scores = pd.DataFrame()\n",
      "for f in star_files:\n",
      "    print f\n",
      "    fpath = path.join(star_dir, f)\n",
      "    df = get_oak_scores(fpath)\n",
      "    star_scores = star_scores.append(df, ignore_index=True)"
     ],
     "language": "python",
     "metadata": {},
     "outputs": [
      {
       "output_type": "stream",
       "stream": "stdout",
       "text": [
        "ca2011_1_csv_v3.txt\n",
        "ca2012_1_csv_v3.txt"
       ]
      },
      {
       "output_type": "stream",
       "stream": "stdout",
       "text": [
        "\n",
        "ca2010_1_csv_v3.txt"
       ]
      },
      {
       "output_type": "stream",
       "stream": "stdout",
       "text": [
        "\n",
        "CA2005_1_CSV_v4.TXT"
       ]
      },
      {
       "output_type": "stream",
       "stream": "stdout",
       "text": [
        "\n",
        "CA2004_1_CSV_v4.TXT"
       ]
      },
      {
       "output_type": "stream",
       "stream": "stdout",
       "text": [
        "\n",
        "CA2006_1_CSV_v3.TXT"
       ]
      },
      {
       "output_type": "stream",
       "stream": "stdout",
       "text": [
        "\n",
        "CA2003_1_CSV_v10.TXT"
       ]
      },
      {
       "output_type": "stream",
       "stream": "stdout",
       "text": [
        "\n",
        "CA2007_1_CSV_v3.TXT"
       ]
      },
      {
       "output_type": "stream",
       "stream": "stdout",
       "text": [
        "\n",
        "ca2008_1_csv_v3.txt"
       ]
      },
      {
       "output_type": "stream",
       "stream": "stdout",
       "text": [
        "\n",
        "ca2009_1_csv_v3.txt"
       ]
      },
      {
       "output_type": "stream",
       "stream": "stdout",
       "text": [
        "\n"
       ]
      }
     ],
     "prompt_number": 9
    },
    {
     "cell_type": "code",
     "collapsed": false,
     "input": [
      "star_scores.year.unique()"
     ],
     "language": "python",
     "metadata": {},
     "outputs": [
      {
       "metadata": {},
       "output_type": "pyout",
       "prompt_number": 10,
       "text": [
        "array([2011, 2012, 2010, 2005, 2004, 2006, 2003, 2007, 2008, 2009])"
       ]
      }
     ],
     "prompt_number": 10
    },
    {
     "cell_type": "code",
     "collapsed": false,
     "input": [
      "star_scores['CDSCode'] = star_scores.apply(lambda r: np.int64(\"\".join([str(r.countycode), str(r.districtcode), str(r.schoolcode)])), axis=1)"
     ],
     "language": "python",
     "metadata": {},
     "outputs": [],
     "prompt_number": 11
    },
    {
     "cell_type": "code",
     "collapsed": false,
     "input": [
      "star_scores.meanscaledscore = star_scores.meanscaledscore.apply(lambda r: np.NaN if r==\"*\" else r)"
     ],
     "language": "python",
     "metadata": {},
     "outputs": [],
     "prompt_number": 12
    },
    {
     "cell_type": "code",
     "collapsed": false,
     "input": [
      "star_scores.meanscaledscore = star_scores.meanscaledscore.astype(np.float64)"
     ],
     "language": "python",
     "metadata": {},
     "outputs": [],
     "prompt_number": 13
    },
    {
     "cell_type": "code",
     "collapsed": false,
     "input": [
      "np.mean(star_scores.meanscaledscore)"
     ],
     "language": "python",
     "metadata": {},
     "outputs": [
      {
       "metadata": {},
       "output_type": "pyout",
       "prompt_number": 14,
       "text": [
        "383.73295634471839"
       ]
      }
     ],
     "prompt_number": 14
    },
    {
     "cell_type": "code",
     "collapsed": false,
     "input": [
      "star_scores = star_scores[star_scores.CDSCode.isin(oak_scls.CDSCode.astype(np.int64).unique())]"
     ],
     "language": "python",
     "metadata": {},
     "outputs": [],
     "prompt_number": 15
    },
    {
     "cell_type": "code",
     "collapsed": false,
     "input": [
      "star_scores.to_csv(path.join(data, 'star_scores.csv'))"
     ],
     "language": "python",
     "metadata": {},
     "outputs": [],
     "prompt_number": 16
    }
   ],
   "metadata": {}
  }
 ]
}